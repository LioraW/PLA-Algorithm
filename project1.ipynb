{
 "cells": [
  {
   "cell_type": "markdown",
   "id": "2263646f",
   "metadata": {},
   "source": [
    "Generate Data"
   ]
  },
  {
   "cell_type": "code",
   "execution_count": 1,
   "id": "e8a06ce2",
   "metadata": {
    "scrolled": true
   },
   "outputs": [
    {
     "name": "stdout",
     "output_type": "stream",
     "text": [
      "AxesSubplot(0.125,0.125;0.62x0.755)\n",
      "  X   Y  value\n",
      " 47  85     -1\n",
      " 42  82     -1\n",
      "  2  74     -1\n",
      " 96  22      1\n",
      " 66  98     -1\n",
      " 50   4      1\n",
      " 39  86     -1\n",
      " 27  66     -1\n",
      " 58  22      1\n",
      " 37   2      1\n",
      "  8  66     -1\n",
      " 94  25      1\n",
      " 68  12      1\n",
      " 29  78     -1\n",
      " 92  18      1\n",
      " 26  72     -1\n",
      " 96  28      1\n",
      " 93   5      1\n",
      " 20  76     -1\n",
      " 50  89     -1\n",
      "  2  66     -1\n",
      " 11  95     -1\n",
      " 48  80     -1\n",
      " 87  34      1\n",
      " 81  25      1\n",
      " 23  68     -1\n",
      "  3  57     -1\n",
      " 65  96     -1\n",
      " 81   5      1\n",
      " 35  72     -1\n",
      " 28  91     -1\n",
      "  2 100     -1\n",
      " 38  81     -1\n",
      " 19  77     -1\n",
      " 86  39      1\n",
      " 28  78     -1\n",
      " 64  17      1\n",
      " 54   6      1\n",
      "100   2      1\n",
      " 22  69     -1\n",
      " 39  70     -1\n",
      " 93  43      1\n",
      " 65  31      1\n",
      " 57  18      1\n",
      " 43 100     -1\n",
      " 78  32      1\n",
      " 59  24      1\n",
      " 12  48     -1\n",
      " 66  18      1\n",
      " 98   8      1\n"
     ]
    },
    {
     "data": {
      "image/png": "[encoded data removed]",
      "text/plain": [
       "<Figure size 432x288 with 2 Axes>"
      ]
     },
     "metadata": {
      "needs_background": "light"
     },
     "output_type": "display_data"
    }
   ],
   "source": [
    "import random\n",
    "import time\n",
    "import pandas as pd\n",
    "\n",
    "w,h = 2,50\n",
    "data = [[0 for x in range(w)] for y in range(h)] \n",
    "\n",
    "random.seed(time.time())\n",
    "\n",
    "linearly_separable = True\n",
    "min_dist_btwn_points = 30\n",
    "\n",
    "# Initialize points and their values\n",
    "for i in range(50):\n",
    "    \n",
    "    #Create random data point\n",
    "    data[i][0] = random.randint(1,100)\n",
    "    data[i][1] = random.randint(1,100)\n",
    "    \n",
    "    while(abs(data[i][0] - data[i][1]) <= min_dist_btwn_points):\n",
    "        #do it again, we don't want it too close to the line\n",
    "        data[i][0] = random.randint(1,100)\n",
    "        data[i][1] = random.randint(1,100)\n",
    "    \n",
    "    # Point's position relative to x = y line determines value        \n",
    "    if (data[i][0] >=  data[i][1]):\n",
    "        data[i].append(1)\n",
    "    else:\n",
    "        data[i].append(-1)\n",
    "        \n",
    "    # unless we don't want it to be specifically linearly separable\n",
    "    # then 10% of the time switch the value up\n",
    "    if (not linearly_separable and random.randint(1,10) % 10):\n",
    "        data[i][2] *= -1\n",
    "    \n",
    "\n",
    "df = pd.DataFrame(data, columns=(\"X\", \"Y\", \"value\"))\n",
    "print(df.plot.scatter(x=\"X\", y=\"Y\", c=\"value\", cmap='viridis'))\n",
    "print(df.to_string(index=False))"
   ]
  },
  {
   "cell_type": "markdown",
   "id": "899f76a2",
   "metadata": {},
   "source": [
    "PLA Algorithm"
   ]
  },
  {
   "cell_type": "code",
   "execution_count": 2,
   "id": "3e787ddf",
   "metadata": {},
   "outputs": [],
   "source": [
    "import numpy as np\n",
    "def pla(x, y, step_size, passes, prediction):\n",
    "    w=[0,0,0]\n",
    "    for c in range(passes):\n",
    "        updated = False\n",
    "        for i in range(len(x)):\n",
    "            if y[i] * np.dot(w, x[i]) <= 0: #prediction and the sign of weight vector * points are opposites\n",
    "                updated = True\n",
    "                updatePiece = [step_size*y[i]*coord for coord in x[i]]\n",
    "                w = [sum(i) for i in zip(*[w,updatePiece])]\n",
    "        if not updated:\n",
    "            break\n",
    "    \n",
    "    if updated == False:\n",
    "        print(\"first solution found\")\n",
    "    else:\n",
    "        print(\"no solution or first solution found but not verified in the last pass\")\n",
    "    return w\n",
    "                    "
   ]
  },
  {
   "cell_type": "markdown",
   "id": "b1a7b0d0",
   "metadata": {},
   "source": [
    "Run PLA algorithm"
   ]
  },
  {
   "cell_type": "code",
   "execution_count": 3,
   "id": "1f36d827",
   "metadata": {
    "scrolled": true
   },
   "outputs": [
    {
     "name": "stdout",
     "output_type": "stream",
     "text": [
      "first solution found\n",
      "[0, 49, -63]\n"
     ]
    }
   ],
   "source": [
    "import numpy as np\n",
    "prediction = np.zeros(50)\n",
    "\n",
    "#separate the points from values for sake of pla\n",
    "values=[]\n",
    "points=[]\n",
    "for i in range(len(data)):\n",
    "    values.append(data[i][2])\n",
    "    points.append([1, data[i][0], data[i][1]]) #1 is neeeded as the first component before the points\n",
    "    \n",
    "result = pla(points, values, 1, 100, prediction)\n",
    "print(result)"
   ]
  },
  {
   "cell_type": "markdown",
   "id": "a5a5db16",
   "metadata": {},
   "source": [
    "Plot Results"
   ]
  },
  {
   "cell_type": "code",
   "execution_count": 12,
   "id": "e4bd136a",
   "metadata": {},
   "outputs": [
    {
     "name": "stdout",
     "output_type": "stream",
     "text": [
      "[0, 0.0]   [100, 77.77777777777777]\n"
     ]
    },
    {
     "data": {
      "image/png": "[encoded data removed]",
      "text/plain": [
       "<Figure size 432x288 with 2 Axes>"
      ]
     },
     "metadata": {
      "needs_background": "light"
     },
     "output_type": "display_data"
    }
   ],
   "source": [
    "import matplotlib.pyplot as plt\n",
    "import pandas as pd\n",
    "\n",
    "def findPointOnLine(weights, x):\n",
    "    # weights[0] + weights[1]*(x) + weights[2]*(y) = 0\n",
    "    y = (-1*weights[0]) - weights[1]*x / weights[2]\n",
    "    return [x, y]\n",
    "\n",
    "# two points are required to plot the line\n",
    "point1 = findPointOnLine(result, 0)\n",
    "point2 = findPointOnLine(result, 100)\n",
    "xvals = [point1[0], point2[0]] \n",
    "yvals = [point1[1], point2[1]]\n",
    "\n",
    "#plot data\n",
    "df = pd.DataFrame(data, columns=(\"X\", \"Y\", \"value\"))\n",
    "df.plot.scatter(x=\"X\", y=\"Y\", c=\"value\", cmap='viridis') # plot points\n",
    "plt.plot(xvals, yvals) # plot decision line\n",
    "print(point1, \" \", point2)"
   ]
  }
 ],
 "metadata": {
  "kernelspec": {
   "display_name": "Python 3",
   "language": "python",
   "name": "python3"
  },
  "language_info": {
   "codemirror_mode": {
    "name": "ipython",
    "version": 3
   },
   "file_extension": ".py",
   "mimetype": "text/x-python",
   "name": "python",
   "nbconvert_exporter": "python",
   "pygments_lexer": "ipython3",
   "version": "3.8.8"
  }
 },
 "nbformat": 4,
 "nbformat_minor": 5
}
