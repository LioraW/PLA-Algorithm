{
 "cells": [
  {
   "cell_type": "markdown",
   "id": "01783209",
   "metadata": {},
   "source": [
    "<h2> Universally Used Functions"
   ]
  },
  {
   "cell_type": "markdown",
   "id": "ae59ad2d",
   "metadata": {},
   "source": [
    "Generate Data Function"
   ]
  },
  {
   "cell_type": "code",
   "execution_count": 1,
   "id": "e8a06ce2",
   "metadata": {
    "scrolled": true
   },
   "outputs": [],
   "source": [
    "import random\n",
    "import time\n",
    "import pandas as pd\n",
    "\n",
    "random.seed(time.time())\n",
    "\n",
    "def generateData(size, dimension=2, linearly_separable=True, min_dist_btwn_points=0):\n",
    "    data = [[0 for x in range(dimension)] for y in range(size)] \n",
    "    \n",
    "    # Initialize points and their values\n",
    "    for i in range(size):\n",
    "\n",
    "        #Create random data point\n",
    "        data[i][0] = random.randint(1,100)\n",
    "        data[i][1] = random.randint(1,100)\n",
    "\n",
    "        while(abs(data[i][0] - data[i][1]) <= min_dist_btwn_points):\n",
    "            #do it again, we don't want it too close to the line\n",
    "            data[i][0] = random.randint(1,100)\n",
    "            data[i][1] = random.randint(1,100)\n",
    "\n",
    "        # Point's position relative to x = y line determines value        \n",
    "        if (data[i][0] >=  data[i][1]):\n",
    "            data[i].append(1)\n",
    "        else:\n",
    "            data[i].append(-1)\n",
    "\n",
    "        # unless we don't want it to be specifically linearly separable\n",
    "        # then 10% of the time switch the value up\n",
    "        if (not linearly_separable and random.randint(1,10) % 10):\n",
    "            data[i][2] *= -1\n",
    "\n",
    "    return data"
   ]
  },
  {
   "cell_type": "code",
   "execution_count": 2,
   "id": "dc1861fa",
   "metadata": {
    "scrolled": false
   },
   "outputs": [],
   "source": [
    "def sep_data(data):\n",
    "    #separate the points from values for sake of pla\n",
    "    values=[]\n",
    "    points=[]\n",
    "    for i in range(len(data)):\n",
    "        values.append(data[i][2])\n",
    "        points.append([1, data[i][0], data[i][1]]) #1 is neeeded as the first component before the points, per PLA\n",
    "    \n",
    "    return [points, values]"
   ]
  },
  {
   "cell_type": "markdown",
   "id": "15b9cd82",
   "metadata": {},
   "source": [
    "Plot Data Function"
   ]
  },
  {
   "cell_type": "code",
   "execution_count": 3,
   "id": "2b920dfd",
   "metadata": {
    "scrolled": false
   },
   "outputs": [],
   "source": [
    "import matplotlib.pyplot as plt\n",
    "import pandas as pd\n",
    "\n",
    "def plot_data(data, graph_title, weights=[]):\n",
    "    \n",
    "    df = pd.DataFrame(data, columns=(\"X\", \"Y\", \"value\"))\n",
    "    df.plot.scatter(x=\"X\", y=\"Y\", c=\"value\", cmap='viridis', title=graph_title)\n",
    "\n",
    "    # weights[0] + weights[1]*(x) + weights[2]*(y) = 0\n",
    "    if weights:\n",
    "        x = np.array(range(100))\n",
    "        y = ((-1*weights[0]) - weights[1]*x) / weights[2]\n",
    "        plt.plot(x, y) "
   ]
  },
  {
   "cell_type": "markdown",
   "id": "0908c3dc",
   "metadata": {},
   "source": [
    "PLA Algorithm"
   ]
  },
  {
   "cell_type": "code",
   "execution_count": 4,
   "id": "b7067aaa",
   "metadata": {
    "scrolled": false
   },
   "outputs": [],
   "source": [
    "import numpy as np\n",
    "def num_missclassified_points(w, x, y):\n",
    "    missed_points = []\n",
    "    labels_this_run = np.sign(np.dot(x,w)) \n",
    "    for i in range(len(x)):\n",
    "        if labels_this_run[i] != y[i]:\n",
    "            missed_points.append(i)\n",
    "    return len(missed_points)"
   ]
  },
  {
   "cell_type": "code",
   "execution_count": 5,
   "id": "3e787ddf",
   "metadata": {
    "scrolled": false
   },
   "outputs": [],
   "source": [
    "import numpy as np\n",
    "def pla(x, y, passes, step_size, w=[0,0,0]):\n",
    "    \n",
    "    num_missed_points = len(x) #assume it starts with them all missclassified\n",
    "    min_error_result = w #keep track of the min error case for non-linearly separable data\n",
    "    reached_threshold=False\n",
    "    \n",
    "    for c in range(passes):\n",
    "        updated = False\n",
    "        for i in range(len(x)):\n",
    "            if y[i] * np.dot(w, x[i]) <= 0:\n",
    "                update = [step_size * y[i] * point for point in x[i]]\n",
    "                w = [sum(i) for i in zip(*[w,update])] #returns a vector of the sums of corresponding values in each vector (w and update) \n",
    "                updated = True\n",
    "                \n",
    "                #check for the number of misclassified points and keep track of the min error\n",
    "                if num_missclassified_points(w, x, y) < num_missed_points:\n",
    "                    num_missed_points = num_missclassified_points(w, x, y)\n",
    "                    min_error_result = w\n",
    "        \n",
    "        if not updated:\n",
    "            break\n",
    "    \n",
    "    if not updated:\n",
    "        print(\"First solution found: \" , w)\n",
    "    else:\n",
    "        print(\"No perfect solution found, best solution found is \", min_error_result)\n",
    "        w = min_error_result #return best solution found\n",
    "    return w\n",
    "                    "
   ]
  },
  {
   "cell_type": "markdown",
   "id": "3febf28e",
   "metadata": {},
   "source": [
    "<h2>Linearly Separable Data Set"
   ]
  },
  {
   "cell_type": "markdown",
   "id": "d7952b0c",
   "metadata": {},
   "source": [
    "<h3>Generate Training Data:"
   ]
  },
  {
   "cell_type": "code",
   "execution_count": 6,
   "id": "172cfa84",
   "metadata": {
    "scrolled": true
   },
   "outputs": [],
   "source": [
    "training_data_ls = generateData(50)\n",
    "test_data_ls = generateData(20)\n",
    "\n",
    "#separate for sake of PLA\n",
    "points = sep_data(training_data_ls)[0]\n",
    "values = sep_data(training_data_ls)[1]"
   ]
  },
  {
   "cell_type": "markdown",
   "id": "ae4e7aaf",
   "metadata": {},
   "source": [
    "<h4>Base case (w = [0,0,0], step_size = 1, in_order=True):"
   ]
  },
  {
   "cell_type": "code",
   "execution_count": null,
   "id": "1f36d827",
   "metadata": {
    "scrolled": true
   },
   "outputs": [],
   "source": [
    "#Run PLA on training Data\n",
    "result = pla(points, values, 100, 1)\n",
    "\n",
    "#Plot Training data with Learned Decision Line\n",
    "plot_data(training_data_ls, 'Training Data with Learned Decision Line', result)\n",
    "\n",
    "#Plot Test Data with Learned Decision Line\n",
    "plot_data(test_data_ls, 'Test Data with Learned Decision Line', result)"
   ]
  },
  {
   "cell_type": "markdown",
   "id": "5f45c4cc",
   "metadata": {},
   "source": [
    "Case where w = [1,2,3] step_size = 1, in_order=True"
   ]
  },
  {
   "cell_type": "code",
   "execution_count": null,
   "id": "5fe0ad30",
   "metadata": {
    "scrolled": true
   },
   "outputs": [],
   "source": [
    "#Run PLA on training Data\n",
    "result = pla(points, values, 100, 1, w=[1,2,3])\n",
    "\n",
    "#Plot Training data with Learned Decision Line\n",
    "plot_data(training_data_ls, 'Training Data with Learned Decision Line', result)\n",
    "\n",
    "#Plot Test Data with Learned Decision Line\n",
    "plot_data(test_data_ls, 'Test Data with Learned Decision Line', result)"
   ]
  },
  {
   "cell_type": "markdown",
   "id": "828f1286",
   "metadata": {},
   "source": [
    "<h3> Case where w = [0,0,0] step_size = 2, in_order = True"
   ]
  },
  {
   "cell_type": "code",
   "execution_count": null,
   "id": "cdae91e7",
   "metadata": {
    "scrolled": true
   },
   "outputs": [],
   "source": [
    "#Run PLA on training Data\n",
    "result = pla(points, values, 100, step_size=2)\n",
    "\n",
    "#Plot Training data with Learned Decision Line\n",
    "plot_data(training_data_ls, 'Training Data with Learned Decision Line', result)\n",
    "\n",
    "#Plot Test Data with Learned Decision Line\n",
    "plot_data(test_data_ls, 'Test Data with Learned Decision Line', result)"
   ]
  },
  {
   "cell_type": "markdown",
   "id": "22355ae4",
   "metadata": {},
   "source": [
    "<h2>Non - Linearly separable Dataset"
   ]
  },
  {
   "cell_type": "markdown",
   "id": "2c0cd96a",
   "metadata": {},
   "source": [
    "<h3>Generate Data:"
   ]
  },
  {
   "cell_type": "code",
   "execution_count": null,
   "id": "c4a95058",
   "metadata": {
    "scrolled": false
   },
   "outputs": [],
   "source": [
    "training_data_nls = generateData(50, linearly_separable=False)\n",
    "test_data_nls = generateData(20, linearly_separable=False)\n",
    "\n",
    "#separate for sake of PLA\n",
    "points = sep_data(training_data_nls)[0]\n",
    "values = sep_data(training_data_nls)[1]"
   ]
  },
  {
   "cell_type": "markdown",
   "id": "471ff46b",
   "metadata": {},
   "source": [
    "<h4>Base case (w = [0,0,0], step_size = 1, in_order=True):"
   ]
  },
  {
   "cell_type": "code",
   "execution_count": null,
   "id": "ade89a3d",
   "metadata": {
    "scrolled": false
   },
   "outputs": [],
   "source": [
    "#Run PLA on training Data\n",
    "result = pla(points, values, 100, step_size=1)\n",
    "\n",
    "#Plot Training data with Learned Decision Line\n",
    "plot_data(training_data_nls, 'Training Data with Learned Decision Line', result)\n",
    "\n",
    "#Plot Test Data with Learned Decision Line\n",
    "plot_data(test_data_nls, 'Test Data with Learned Decision Line', result)"
   ]
  },
  {
   "cell_type": "markdown",
   "id": "83554298",
   "metadata": {},
   "source": [
    "<h4>Base case (w = [1,2,3], step_size = 1, in_order=True):"
   ]
  },
  {
   "cell_type": "code",
   "execution_count": null,
   "id": "c4da0003",
   "metadata": {},
   "outputs": [],
   "source": [
    "#Run PLA on training Data\n",
    "result = pla(points, values, 100, step_size=1, w=[1,2,3])\n",
    "\n",
    "#Plot Training data with Learned Decision Line\n",
    "plot_data(training_data_nls, 'Training Data with Learned Decision Line', result)\n",
    "\n",
    "#Plot Test Data with Learned Decision Line\n",
    "plot_data(test_data_nls, 'Test Data with Learned Decision Line', result)"
   ]
  },
  {
   "cell_type": "markdown",
   "id": "5c74a0d0",
   "metadata": {},
   "source": [
    "<h3> Case where w = [0,0,0] step_size = 2, in_order = True"
   ]
  },
  {
   "cell_type": "code",
   "execution_count": null,
   "id": "20702cb2",
   "metadata": {},
   "outputs": [],
   "source": [
    "#Run PLA on training Data\n",
    "result = pla(points, values, 100, step_size=2)\n",
    "\n",
    "#Plot Training data with Learned Decision Line\n",
    "plot_data(training_data_nls, 'Training Data with Learned Decision Line', result)\n",
    "\n",
    "#Plot Test Data with Learned Decision Line\n",
    "plot_data(test_data_nls, 'Test Data with Learned Decision Line', result)"
   ]
  }
 ],
 "metadata": {
  "kernelspec": {
   "display_name": "Python 3",
   "language": "python",
   "name": "python3"
  },
  "language_info": {
   "codemirror_mode": {
    "name": "ipython",
    "version": 3
   },
   "file_extension": ".py",
   "mimetype": "text/x-python",
   "name": "python",
   "nbconvert_exporter": "python",
   "pygments_lexer": "ipython3",
   "version": "3.8.8"
  }
 },
 "nbformat": 4,
 "nbformat_minor": 5
}
