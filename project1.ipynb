{
 "cells": [
  {
   "cell_type": "code",
   "execution_count": 1,
   "id": "3e787ddf",
   "metadata": {},
   "outputs": [],
   "source": [
    "# pla function takes a data set input: x output: y and weights w and produces some line (w)\n",
    "def pla(w, x, y, step_size, passes):\n",
    "    \n",
    "    \n",
    "    for c in range(passes):\n",
    "        updated = False\n",
    "        \n",
    "        for i in range(len(x)):\n",
    "            y_prediction = w[0]*1 + w[1]*x[i][0] + w[2]*x[i][1]\n",
    "            #prediction[i] = y_prediction\n",
    "\n",
    "            if y_prediction * y[i] < 0:\n",
    "                updated = True\n",
    "                for j in range(len(w)):\n",
    "                    if j > 0:\n",
    "                        w[j] = w[j] + step_size * y[i] * x[i][j-1]\n",
    "                    else:\n",
    "                        w[j] = w[j] + step_size * y[i] * 1\n",
    "        \n",
    "        if not updated:\n",
    "            print('pla finds solution')\n",
    "            break\n",
    "        if c == passes - 1:\n",
    "            print('pla finds no solution')\n",
    "    \n",
    "                    "
   ]
  },
  {
   "cell_type": "code",
   "execution_count": 2,
   "id": "e8a06ce2",
   "metadata": {},
   "outputs": [],
   "source": [
    "from matplotlib import cm\n",
    "import matplotlib.pyplot as plt\n",
    "import random\n",
    "import time\n",
    "import numpy as np\n",
    "import pandas as pd\n",
    "import math\n",
    "\n",
    "\n",
    "\n",
    "random.seed(time.time())\n",
    "\n",
    "def data_generation(dataset_2D, size, separable):\n",
    "\n",
    "    below_line = False\n",
    "    for i in range(size):\n",
    "        dataset_2D[i][0] = random.randint(1,100)\n",
    "        dataset_2D[i][1] = random.randint(1,100)\n",
    "\n",
    "    #     print(dataset_2D[i][0] * dataset_2D[i][1], \" compared to \", (dataset_2D[i][0] ** 2) + 1)\n",
    "\n",
    "        while not below_line and math.sqrt(dataset_2D[i][0] * dataset_2D[i][1]) < (math.sqrt((dataset_2D[i][0] ** 2)) + 5) :\n",
    "            if (random.randint(0,9) % 10 or separable):\n",
    "    #             print(\"adjust a top point at index:\", i)\n",
    "                dataset_2D[i][0] = random.randint(1,100)\n",
    "                dataset_2D[i][1] = random.randint(1,100)\n",
    "            else:\n",
    "                print(\"-----skipping adjustment------\")\n",
    "                break\n",
    "\n",
    "\n",
    "        while below_line and math.sqrt(dataset_2D[i][0] * dataset_2D[i][1]) > (math.sqrt((dataset_2D[i][0] ** 2)) - 5) :\n",
    "            if (random.randint(0,9) % 10 or separable):\n",
    "    #             print(\"adjust a bottom point at index:\", i)\n",
    "                dataset_2D[i][0] = random.randint(1,100)\n",
    "                dataset_2D[i][1] = random.randint(1,100)\n",
    "            else:\n",
    "                print(\"-----skipping adjustment------\")\n",
    "                break\n",
    "\n",
    "        if below_line :\n",
    "            dataset_2D[i][2] = -1\n",
    "        else:\n",
    "            dataset_2D[i][2] = 1\n",
    "\n",
    "        if i >= (size / 2) - 1:\n",
    "            below_line = True\n",
    "\n",
    "            \n",
    "            \n",
    "            \n",
    "            \n",
    "\n",
    "\n"
   ]
  },
  {
   "cell_type": "code",
   "execution_count": 3,
   "id": "46b2e211",
   "metadata": {},
   "outputs": [
    {
     "name": "stdout",
     "output_type": "stream",
     "text": [
      "-----skipping adjustment------\n",
      "-----skipping adjustment------\n",
      "-----skipping adjustment------\n",
      "-----skipping adjustment------\n",
      "-----skipping adjustment------\n",
      "-----skipping adjustment------\n"
     ]
    }
   ],
   "source": [
    "training_set = np.zeros((50,3))\n",
    "test_set = np.zeros((30,3))\n",
    "        \n",
    "# print(points)\n",
    "\n",
    "data_generation(training_set, 50, True)\n",
    "data_generation(test_set, 30, False)\n"
   ]
  },
  {
   "cell_type": "code",
   "execution_count": 4,
   "id": "1f36d827",
   "metadata": {
    "scrolled": true
   },
   "outputs": [
    {
     "name": "stdout",
     "output_type": "stream",
     "text": [
      "pla finds solution\n",
      "[1.0, -117.0, 112.0]\n"
     ]
    },
    {
     "data": {
      "image/png": "[encoded data removed]",
      "text/plain": [
       "<Figure size 432x288 with 2 Axes>"
      ]
     },
     "metadata": {
      "needs_background": "light"
     },
     "output_type": "display_data"
    }
   ],
   "source": [
    "\n",
    "\n",
    "w = [1.0, 1.0, 1.0]\n",
    "\n",
    "\n",
    "pla(w, training_set[:,0:2], training_set[:,2], 1, 1000)\n",
    "\n",
    "\n",
    "\n",
    "m_cmap = cm.get_cmap('Spectral')\n",
    "\n",
    "df = pd.DataFrame(training_set, columns=(\"X\", \"Y\", \"value\"))\n",
    "df.plot.scatter(x=\"X\", y=\"Y\", c=\"value\", cmap=m_cmap)\n",
    "\n",
    "x = np.array(range(100))\n",
    "print(w)\n",
    "\n",
    "y = (w[1] / -w[2]) * x + (w[0] / -w[2])\n",
    "\n",
    "plt.plot(x, y)\n",
    "plt.show()\n"
   ]
  },
  {
   "cell_type": "code",
   "execution_count": 5,
   "id": "85d172ce",
   "metadata": {
    "scrolled": true
   },
   "outputs": [
    {
     "name": "stdout",
     "output_type": "stream",
     "text": [
      "[1.0, -117.0, 112.0]\n"
     ]
    },
    {
     "data": {
      "image/png": "[encoded data removed]",
      "text/plain": [
       "<Figure size 432x288 with 2 Axes>"
      ]
     },
     "metadata": {
      "needs_background": "light"
     },
     "output_type": "display_data"
    }
   ],
   "source": [
    "prediction = np.zeros(30)\n",
    "for i in range(len(test_set[:,2])):\n",
    "    y_prediction = w[0]*1 + w[1]*test_set[i][0] + w[2]*test_set[i][1]\n",
    "    if y_prediction < 0:\n",
    "        prediction[i] = -1\n",
    "    else:\n",
    "        prediction[i] = 1\n",
    "\n",
    "\n",
    "m_cmap = cm.get_cmap('Spectral')\n",
    "\n",
    "df = pd.DataFrame(test_set, columns=(\"X\", \"Y\", \"value\"))\n",
    "df.plot.scatter(x=\"X\", y=\"Y\", c=\"value\", cmap=m_cmap)\n",
    "\n",
    "x = np.array(range(100))\n",
    "print(w)\n",
    "\n",
    "y = (w[1] / -w[2]) * x + (w[0] / -w[2])\n",
    "\n",
    "plt.plot(x, y)\n",
    "plt.show()"
   ]
  },
  {
   "cell_type": "code",
   "execution_count": 6,
   "id": "07a3517e",
   "metadata": {
    "scrolled": true
   },
   "outputs": [],
   "source": [
    "for i in range(len(prediction)):\n",
    "    if prediction[i] < 0:\n",
    "        prediction[i] = -1\n",
    "    else:\n",
    "        prediction[i] = 1"
   ]
  },
  {
   "cell_type": "code",
   "execution_count": 7,
   "id": "17258887",
   "metadata": {
    "scrolled": true
   },
   "outputs": [
    {
     "name": "stdout",
     "output_type": "stream",
     "text": [
      "[1.0, -117.0, 112.0]\n"
     ]
    }
   ],
   "source": [
    " print(w)"
   ]
  },
  {
   "cell_type": "code",
   "execution_count": 8,
   "id": "7a62fa96",
   "metadata": {},
   "outputs": [
    {
     "name": "stdout",
     "output_type": "stream",
     "text": [
      "24\n",
      "accuracy is: 0.8\n"
     ]
    }
   ],
   "source": [
    "success = 0;\n",
    "for i in range(len(test_set[:,2])):\n",
    "    if test_set[i][2] == prediction[i]:\n",
    "        success += 1\n",
    "    \n",
    "print(success)\n",
    "print('accuracy is:', float(success) / float(30))"
   ]
  }
 ],
 "metadata": {
  "kernelspec": {
   "display_name": "Python 3",
   "language": "python",
   "name": "python3"
  },
  "language_info": {
   "codemirror_mode": {
    "name": "ipython",
    "version": 3
   },
   "file_extension": ".py",
   "mimetype": "text/x-python",
   "name": "python",
   "nbconvert_exporter": "python",
   "pygments_lexer": "ipython3",
   "version": "3.8.8"
  }
 },
 "nbformat": 4,
 "nbformat_minor": 5
}
