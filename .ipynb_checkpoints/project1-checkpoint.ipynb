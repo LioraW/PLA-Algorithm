{
 "cells": [
  {
   "cell_type": "code",
   "execution_count": 8,
   "id": "3e787ddf",
   "metadata": {},
   "outputs": [],
   "source": [
    "def pla(w, x, y, step_size, passes, prediction):\n",
    "    \n",
    "    \n",
    "    for c in range(passes):\n",
    "        updated = False\n",
    "        \n",
    "        y_prediction = w[0]\n",
    "        for i in range(len(x)):\n",
    "            for j in range(len(x[i])):\n",
    "                print(\"i is:\", i, \" and j is:\", j)\n",
    "                y_prediction += w[j+1]*x[i][j]\n",
    "                prediction[i] = int(y_prediction / abs(y_prediction))\n",
    "\n",
    "            if y_prediction * y[i] < 0:\n",
    "                updated = True\n",
    "                for j in range(len(w)):\n",
    "                    print(\"new j is:\", j)\n",
    "                    if j > 0:\n",
    "                        w[j] = w[j] + step_size * y[i] * x[i][j-1]\n",
    "                    else:\n",
    "                        w[j] = w[j] + step_size * y[i] * 1\n",
    "        \n",
    "        if not updated:\n",
    "            break\n",
    "            \n",
    "    \n",
    "                    "
   ]
  },
  {
   "cell_type": "code",
   "execution_count": 9,
   "id": "e8a06ce2",
   "metadata": {},
   "outputs": [],
   "source": [
    "import random\n",
    "import time\n",
    "import numpy as np\n",
    "\n",
    "w,h = 2,50\n",
    "points = np.zeros((50,2)) \n",
    "cls = np.zeros(50)\n",
    "\n",
    "random.seed(time.time())\n",
    "\n",
    "below_line = False\n",
    "for i in range(50):\n",
    "    points[i][0] = random.randint(1,100)\n",
    "    points[i][1] = random.randint(1,100)\n",
    "    \n",
    "    print(points[i][0] * points[i][1], \" compared to \", (points[i][0] ** 2) + 1)\n",
    "    \n",
    "    while not below_line and (points[i][0] * points[i][1]) < ((points[i][0] ** 2) + 1) :\n",
    "        if (random.randint(0,10) % 10):\n",
    "            print(\"adjust a top point at index:\", i)\n",
    "            points[i][0] = random.randint(1,100)\n",
    "            points[i][1] = random.randint(1,100)\n",
    "        else:\n",
    "            print(\"-----skipping adjustment------\")\n",
    "            break\n",
    "        \n",
    "    \n",
    "    while below_line and (points[i][0] * points[i][1]) > ((points[i][0] ** 2) - 1):\n",
    "        if (random.randint(0,10) % 10):\n",
    "            print(\"adjust a bottom point at index:\", i)\n",
    "            points[i][0] = random.randint(1,100)\n",
    "            points[i][1] = random.randint(1,100)\n",
    "        else:\n",
    "            print(\"-----skipping adjustment------\")\n",
    "            break\n",
    "       \n",
    "    if below_line :\n",
    "        cls[i] = -1\n",
    "    else:\n",
    "        cls[i] = 1\n",
    "    \n",
    "    if i == 24:\n",
    "        below_line = True \n",
    "        \n",
    "\n",
    "        \n",
    "print(points)\n",
    "\n",
    "prediction = np.zeros(50)\n",
    "\n",
    "print(points)\n",
    "print(cls)\n",
    "print(prediction)\n",
    "\n",
    "\n"
   ]
  },
  {
   "cell_type": "code",
   "execution_count": 10,
   "id": "1f36d827",
   "metadata": {
    "scrolled": true
   },
   "outputs": [],
   "source": [
    "\n",
    "\n",
    "w = [1.0, 0.5, 0.5]\n",
    "#type(w[0])\n",
    "\n",
    "pla(w, points, cls, 1, 100, prediction)"
   ]
  },
  {
   "cell_type": "code",
   "execution_count": 11,
   "id": "85d172ce",
   "metadata": {
    "scrolled": true
   },
   "outputs": [],
   "source": [
    "print(prediction)"
   ]
  },
  {
   "cell_type": "code",
   "execution_count": 12,
   "id": "07a3517e",
   "metadata": {},
   "outputs": [],
   "source": [
    "print(cls)"
   ]
  },
  {
   "cell_type": "code",
   "execution_count": 13,
   "id": "17258887",
   "metadata": {},
   "outputs": [],
   "source": [
    "print(w)"
   ]
  },
  {
   "cell_type": "code",
   "execution_count": 14,
   "id": "ec06ca7a",
   "metadata": {},
   "outputs": [],
   "source": [
    "success = 0;\n",
    "for i in range(len(cls)):\n",
    "    if cls[i] == prediction[i]:\n",
    "        success += 1\n",
    "    \n",
    "print(success)\n",
    "print('accuracy is:', float(success) / float(50))"
   ]
  },
  {
   "cell_type": "code",
   "execution_count": null,
   "id": "88873c19",
   "metadata": {},
   "outputs": [],
   "source": []
  },
  {
   "cell_type": "code",
   "execution_count": null,
   "id": "9b8d29f6",
   "metadata": {},
   "outputs": [],
   "source": []
  }
 ],
 "metadata": {
  "kernelspec": {
   "display_name": "Python 3",
   "language": "python",
   "name": "python3"
  },
  "language_info": {
   "codemirror_mode": {
    "name": "ipython",
    "version": 3
   },
   "file_extension": ".py",
   "mimetype": "text/x-python",
   "name": "python",
   "nbconvert_exporter": "python",
   "pygments_lexer": "ipython3",
   "version": "3.8.8"
  }
 },
 "nbformat": 4,
 "nbformat_minor": 5
}
